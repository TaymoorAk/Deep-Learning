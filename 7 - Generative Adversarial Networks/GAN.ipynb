{
  "nbformat": 4,
  "nbformat_minor": 0,
  "metadata": {
    "colab": {
      "name": "GAN.ipynb",
      "version": "0.3.2",
      "provenance": []
    },
    "kernelspec": {
      "name": "python3",
      "display_name": "Python 3"
    }
  },
  "cells": [
    {
      "metadata": {
        "id": "fXDfcxSWWo79",
        "colab_type": "code",
        "colab": {}
      },
      "cell_type": "code",
      "source": [
        "import numpy as np\n",
        "import matplotlib.pyplot as plt\n",
        "import tensorflow as tf\n",
        "%matplotlib inline"
      ],
      "execution_count": 0,
      "outputs": []
    },
    {
      "metadata": {
        "id": "Ig2EKknacJp_",
        "colab_type": "code",
        "colab": {}
      },
      "cell_type": "code",
      "source": [
        "import warnings\n",
        "warnings.filterwarnings(\"ignore\")"
      ],
      "execution_count": 0,
      "outputs": []
    },
    {
      "metadata": {
        "id": "mXyAEQQ4XA0q",
        "colab_type": "code",
        "colab": {
          "base_uri": "https://localhost:8080/",
          "height": 411
        },
        "outputId": "c7a54449-f7e8-4f90-9447-d224bbf77b67"
      },
      "cell_type": "code",
      "source": [
        "from tensorflow.examples.tutorials.mnist import input_data\n",
        "mnist = input_data.read_data_sets(\"MNIST_data/\", one_hot=True)"
      ],
      "execution_count": 3,
      "outputs": [
        {
          "output_type": "stream",
          "text": [
            "WARNING:tensorflow:From <ipython-input-3-8bf8ae5a5303>:2: read_data_sets (from tensorflow.contrib.learn.python.learn.datasets.mnist) is deprecated and will be removed in a future version.\n",
            "Instructions for updating:\n",
            "Please use alternatives such as official/mnist/dataset.py from tensorflow/models.\n",
            "WARNING:tensorflow:From /usr/local/lib/python3.6/dist-packages/tensorflow/contrib/learn/python/learn/datasets/mnist.py:260: maybe_download (from tensorflow.contrib.learn.python.learn.datasets.base) is deprecated and will be removed in a future version.\n",
            "Instructions for updating:\n",
            "Please write your own downloading logic.\n",
            "WARNING:tensorflow:From /usr/local/lib/python3.6/dist-packages/tensorflow/contrib/learn/python/learn/datasets/mnist.py:262: extract_images (from tensorflow.contrib.learn.python.learn.datasets.mnist) is deprecated and will be removed in a future version.\n",
            "Instructions for updating:\n",
            "Please use tf.data to implement this functionality.\n",
            "Extracting MNIST_data/train-images-idx3-ubyte.gz\n",
            "WARNING:tensorflow:From /usr/local/lib/python3.6/dist-packages/tensorflow/contrib/learn/python/learn/datasets/mnist.py:267: extract_labels (from tensorflow.contrib.learn.python.learn.datasets.mnist) is deprecated and will be removed in a future version.\n",
            "Instructions for updating:\n",
            "Please use tf.data to implement this functionality.\n",
            "Extracting MNIST_data/train-labels-idx1-ubyte.gz\n",
            "WARNING:tensorflow:From /usr/local/lib/python3.6/dist-packages/tensorflow/contrib/learn/python/learn/datasets/mnist.py:110: dense_to_one_hot (from tensorflow.contrib.learn.python.learn.datasets.mnist) is deprecated and will be removed in a future version.\n",
            "Instructions for updating:\n",
            "Please use tf.one_hot on tensors.\n",
            "Extracting MNIST_data/t10k-images-idx3-ubyte.gz\n",
            "Extracting MNIST_data/t10k-labels-idx1-ubyte.gz\n",
            "WARNING:tensorflow:From /usr/local/lib/python3.6/dist-packages/tensorflow/contrib/learn/python/learn/datasets/mnist.py:290: DataSet.__init__ (from tensorflow.contrib.learn.python.learn.datasets.mnist) is deprecated and will be removed in a future version.\n",
            "Instructions for updating:\n",
            "Please use alternatives such as official/mnist/dataset.py from tensorflow/models.\n"
          ],
          "name": "stdout"
        }
      ]
    },
    {
      "metadata": {
        "id": "I4Mu77IRXXZ9",
        "colab_type": "code",
        "colab": {
          "base_uri": "https://localhost:8080/",
          "height": 282
        },
        "outputId": "1d683666-4968-4fe4-f291-1b1f9191873e"
      },
      "cell_type": "code",
      "source": [
        "plt.imshow(mnist.train.images[5].reshape(28,28), cmap='Greys')"
      ],
      "execution_count": 4,
      "outputs": [
        {
          "output_type": "execute_result",
          "data": {
            "text/plain": [
              "<matplotlib.image.AxesImage at 0x7fd666b52b00>"
            ]
          },
          "metadata": {
            "tags": []
          },
          "execution_count": 4
        },
        {
          "output_type": "display_data",
          "data": {
            "image/png": "[encoded data removed]",
            "text/plain": [
              "<Figure size 432x288 with 1 Axes>"
            ]
          },
          "metadata": {
            "tags": []
          }
        }
      ]
    },
    {
      "metadata": {
        "id": "UKEek4jnXyLL",
        "colab_type": "text"
      },
      "cell_type": "markdown",
      "source": [
        "## The Generator"
      ]
    },
    {
      "metadata": {
        "id": "S2JIuRntXobN",
        "colab_type": "code",
        "colab": {}
      },
      "cell_type": "code",
      "source": [
        "def generator(z,reuse=None):\n",
        "    with tf.variable_scope('gen',reuse=reuse):\n",
        "        hidden1 = tf.layers.dense(inputs=z,units=128)\n",
        "        # Leaky Relu\n",
        "        alpha = 0.01\n",
        "        hidden1 = tf.maximum(alpha*hidden1,hidden1)\n",
        "        hidden2 = tf.layers.dense(inputs=hidden1,units=128)\n",
        "        \n",
        "        hidden2 = tf.maximum(alpha*hidden2,hidden2)\n",
        "        output = tf.layers.dense(hidden2,units=784,activation=tf.nn.tanh)\n",
        "        return output"
      ],
      "execution_count": 0,
      "outputs": []
    },
    {
      "metadata": {
        "id": "VEkLpedtZCqq",
        "colab_type": "text"
      },
      "cell_type": "markdown",
      "source": [
        "## The Discriminator"
      ]
    },
    {
      "metadata": {
        "id": "jTK8yfEuZBb1",
        "colab_type": "code",
        "colab": {}
      },
      "cell_type": "code",
      "source": [
        "def discriminator(X,reuse=None):\n",
        "    with tf.variable_scope('dis',reuse=reuse):\n",
        "        hidden1 = tf.layers.dense(inputs=X,units=128)\n",
        "        # Leaky Relu\n",
        "        alpha = 0.01\n",
        "        hidden1 = tf.maximum(alpha*hidden1,hidden1)\n",
        "        \n",
        "        hidden2 = tf.layers.dense(inputs=hidden1,units=128)\n",
        "        hidden2 = tf.maximum(alpha*hidden2,hidden2)\n",
        "        \n",
        "        logits = tf.layers.dense(hidden2,units=1)\n",
        "        output = tf.sigmoid(logits)\n",
        "    \n",
        "        return output, logits"
      ],
      "execution_count": 0,
      "outputs": []
    },
    {
      "metadata": {
        "id": "V5qmG9JyZ7tV",
        "colab_type": "text"
      },
      "cell_type": "markdown",
      "source": [
        "## Placeholder"
      ]
    },
    {
      "metadata": {
        "id": "U1y-tfQuZ6Dc",
        "colab_type": "code",
        "colab": {}
      },
      "cell_type": "code",
      "source": [
        "real_images = tf.placeholder(tf.float32, shape =[None, 784])\n",
        "z = tf.placeholder(tf.float32, shape=[None, 100])"
      ],
      "execution_count": 0,
      "outputs": []
    },
    {
      "metadata": {
        "id": "Mam-8gOgaQGw",
        "colab_type": "text"
      },
      "cell_type": "markdown",
      "source": [
        "## Generator"
      ]
    },
    {
      "metadata": {
        "id": "EuoAJ-xqaPTu",
        "colab_type": "code",
        "colab": {}
      },
      "cell_type": "code",
      "source": [
        "G = generator(z)"
      ],
      "execution_count": 0,
      "outputs": []
    },
    {
      "metadata": {
        "id": "cCEcnbwNbT-j",
        "colab_type": "text"
      },
      "cell_type": "markdown",
      "source": [
        "## Discriminator"
      ]
    },
    {
      "metadata": {
        "id": "lUjkN8kjaZrj",
        "colab_type": "code",
        "colab": {}
      },
      "cell_type": "code",
      "source": [
        "D_output_real, D_logits_real = discriminator(real_images)"
      ],
      "execution_count": 0,
      "outputs": []
    },
    {
      "metadata": {
        "id": "hmsTGzoza_sB",
        "colab_type": "code",
        "colab": {}
      },
      "cell_type": "code",
      "source": [
        "D_output_fake, D_logits_fake = discriminator(G,reuse=True)"
      ],
      "execution_count": 0,
      "outputs": []
    },
    {
      "metadata": {
        "id": "kSWyISV7cgOS",
        "colab_type": "text"
      },
      "cell_type": "markdown",
      "source": [
        "## Losses"
      ]
    },
    {
      "metadata": {
        "id": "j1TtmDxUb9Mx",
        "colab_type": "code",
        "colab": {}
      },
      "cell_type": "code",
      "source": [
        "def loss_func(logits_in,labels_in):\n",
        "  return tf.reduce_mean(tf.nn.sigmoid_cross_entropy_with_logits(logits=logits_in,labels=labels_in))"
      ],
      "execution_count": 0,
      "outputs": []
    },
    {
      "metadata": {
        "id": "rBpJTQZTc79H",
        "colab_type": "code",
        "colab": {}
      },
      "cell_type": "code",
      "source": [
        "D_real_loss = loss_func(D_logits_real,tf.ones_like(D_logits_real)*(0.9))"
      ],
      "execution_count": 0,
      "outputs": []
    },
    {
      "metadata": {
        "id": "LSVBCVsNdMYI",
        "colab_type": "code",
        "colab": {}
      },
      "cell_type": "code",
      "source": [
        "D_fake_loss = loss_func(D_logits_fake,tf.zeros_like(D_logits_real))"
      ],
      "execution_count": 0,
      "outputs": []
    },
    {
      "metadata": {
        "id": "of03cbfsdfUv",
        "colab_type": "code",
        "colab": {}
      },
      "cell_type": "code",
      "source": [
        "D_loss = D_real_loss +D_fake_loss"
      ],
      "execution_count": 0,
      "outputs": []
    },
    {
      "metadata": {
        "id": "TsThcSIndkti",
        "colab_type": "code",
        "colab": {}
      },
      "cell_type": "code",
      "source": [
        "G_loss = loss_func(D_logits_fake,tf.ones_like(D_logits_fake))"
      ],
      "execution_count": 0,
      "outputs": []
    },
    {
      "metadata": {
        "id": "s8GlUWPQd9Cg",
        "colab_type": "text"
      },
      "cell_type": "markdown",
      "source": [
        "## Optimizer"
      ]
    },
    {
      "metadata": {
        "id": "jJlIDcRBdtj8",
        "colab_type": "code",
        "colab": {
          "base_uri": "https://localhost:8080/",
          "height": 71
        },
        "outputId": "33d176fc-4def-4876-d61a-66eb8cfca437"
      },
      "cell_type": "code",
      "source": [
        "learning_rate = 0.001\n",
        "\n",
        "tvars = tf.trainable_variables()\n",
        "\n",
        "d_vars = [var for var in tvars if 'dis' in var.name]\n",
        "g_vars = [var for var in tvars if 'gen' in var.name]\n",
        "\n",
        "print([v.name for v in d_vars])\n",
        "print([v.name for v in g_vars])"
      ],
      "execution_count": 18,
      "outputs": [
        {
          "output_type": "stream",
          "text": [
            "['dis/dense/kernel:0', 'dis/dense/bias:0', 'dis/dense_1/kernel:0', 'dis/dense_1/bias:0', 'dis/dense_2/kernel:0', 'dis/dense_2/bias:0']\n",
            "['gen/dense/kernel:0', 'gen/dense/bias:0', 'gen/dense_1/kernel:0', 'gen/dense_1/bias:0', 'gen/dense_2/kernel:0', 'gen/dense_2/bias:0']\n"
          ],
          "name": "stdout"
        }
      ]
    },
    {
      "metadata": {
        "id": "nHZnGlTmel2w",
        "colab_type": "code",
        "colab": {}
      },
      "cell_type": "code",
      "source": [
        "D_trainer = tf.train.AdamOptimizer(learning_rate).minimize(D_loss, var_list = d_vars)\n",
        "G_trainer = tf.train.AdamOptimizer(learning_rate).minimize(G_loss, var_list = g_vars)"
      ],
      "execution_count": 0,
      "outputs": []
    },
    {
      "metadata": {
        "id": "4jy99lRLfO5T",
        "colab_type": "text"
      },
      "cell_type": "markdown",
      "source": [
        "## Training Session"
      ]
    },
    {
      "metadata": {
        "id": "WXHriQ2wfKa8",
        "colab_type": "code",
        "colab": {}
      },
      "cell_type": "code",
      "source": [
        "batch_size = 100\n",
        "epochs = 500\n",
        "init = tf.global_variables_initializer()\n",
        "saver = tf.train.Saver(var_list = g_vars)"
      ],
      "execution_count": 0,
      "outputs": []
    },
    {
      "metadata": {
        "id": "s-cHtHsoffUX",
        "colab_type": "code",
        "colab": {}
      },
      "cell_type": "code",
      "source": [
        "#Save a sample per epoch\n",
        "samples = []"
      ],
      "execution_count": 0,
      "outputs": []
    },
    {
      "metadata": {
        "id": "P5ri2elbfj5Z",
        "colab_type": "code",
        "colab": {
          "base_uri": "https://localhost:8080/",
          "height": 8517
        },
        "outputId": "9888b072-25b7-4acd-a7a2-5edc6f23554b"
      },
      "cell_type": "code",
      "source": [
        "with tf.Session() as sess:\n",
        "  \n",
        "  sess.run(init)\n",
        "  \n",
        "  for e in range(epochs):\n",
        "    # indicats classic division\n",
        "    num_batches = mnist.train.num_examples // batch_size\n",
        "    \n",
        "    for i in range(num_batches):\n",
        "      \n",
        "      #Grab batch of images\n",
        "      batch = mnist.train.next_batch(batch_size)\n",
        "      \n",
        "      #Get images, reshape and rescale to pass to D\n",
        "      batch_images = batch[0].reshape((batch_size,784))\n",
        "      batch_images = batch_images*2 - 1\n",
        "      \n",
        "      # Z (random Latent noise data for Generator)\n",
        "      # -1 ro 1 because of tanh activation\n",
        "      batch_z = np.random.uniform(-1, 1, size=(batch_size,100))\n",
        "      \n",
        "      #Run optimizers, no need to save outputs, we won't use them\n",
        "      \n",
        "      _ = sess.run(D_trainer, feed_dict ={real_images: batch_images, z:batch_z})\n",
        "      _ = sess.run(G_trainer, feed_dict ={z: batch_z})\n",
        "      \n",
        "    print(\"Currently on epoch {} of {} total... \".format(e+1, epochs))\n",
        "    \n",
        "    #Sample from generator as we're training for viewing afterwards\n",
        "    sample_z = np.random.uniform(-1, 1, size=(1,100))\n",
        "    gen_sample = sess.run(generator(z, reuse=True),feed_dict={z:sample_z})\n",
        "    \n",
        "    samples.append(gen_sample)\n",
        "    saver.save(sess, './GAN_model.ckpt')"
      ],
      "execution_count": 25,
      "outputs": [
        {
          "output_type": "stream",
          "text": [
            "Currently on epoch 1 of 500 total... \n",
            "Currently on epoch 2 of 500 total... \n",
            "Currently on epoch 3 of 500 total... \n",
            "Currently on epoch 4 of 500 total... \n",
            "Currently on epoch 5 of 500 total... \n",
            "Currently on epoch 6 of 500 total... \n",
            "Currently on epoch 7 of 500 total... \n",
            "Currently on epoch 8 of 500 total... \n",
            "Currently on epoch 9 of 500 total... \n",
            "Currently on epoch 10 of 500 total... \n",
            "Currently on epoch 11 of 500 total... \n",
            "Currently on epoch 12 of 500 total... \n",
            "Currently on epoch 13 of 500 total... \n",
            "Currently on epoch 14 of 500 total... \n",
            "Currently on epoch 15 of 500 total... \n",
            "Currently on epoch 16 of 500 total... \n",
            "Currently on epoch 17 of 500 total... \n",
            "Currently on epoch 18 of 500 total... \n",
            "Currently on epoch 19 of 500 total... \n",
            "Currently on epoch 20 of 500 total... \n",
            "Currently on epoch 21 of 500 total... \n",
            "Currently on epoch 22 of 500 total... \n",
            "Currently on epoch 23 of 500 total... \n",
            "Currently on epoch 24 of 500 total... \n",
            "Currently on epoch 25 of 500 total... \n",
            "Currently on epoch 26 of 500 total... \n",
            "Currently on epoch 27 of 500 total... \n",
            "Currently on epoch 28 of 500 total... \n",
            "Currently on epoch 29 of 500 total... \n",
            "Currently on epoch 30 of 500 total... \n",
            "Currently on epoch 31 of 500 total... \n",
            "Currently on epoch 32 of 500 total... \n",
            "Currently on epoch 33 of 500 total... \n",
            "Currently on epoch 34 of 500 total... \n",
            "Currently on epoch 35 of 500 total... \n",
            "Currently on epoch 36 of 500 total... \n",
            "Currently on epoch 37 of 500 total... \n",
            "Currently on epoch 38 of 500 total... \n",
            "Currently on epoch 39 of 500 total... \n",
            "Currently on epoch 40 of 500 total... \n",
            "Currently on epoch 41 of 500 total... \n",
            "Currently on epoch 42 of 500 total... \n",
            "Currently on epoch 43 of 500 total... \n",
            "Currently on epoch 44 of 500 total... \n",
            "Currently on epoch 45 of 500 total... \n",
            "Currently on epoch 46 of 500 total... \n",
            "Currently on epoch 47 of 500 total... \n",
            "Currently on epoch 48 of 500 total... \n",
            "Currently on epoch 49 of 500 total... \n",
            "Currently on epoch 50 of 500 total... \n",
            "Currently on epoch 51 of 500 total... \n",
            "Currently on epoch 52 of 500 total... \n",
            "Currently on epoch 53 of 500 total... \n",
            "Currently on epoch 54 of 500 total... \n",
            "Currently on epoch 55 of 500 total... \n",
            "Currently on epoch 56 of 500 total... \n",
            "Currently on epoch 57 of 500 total... \n",
            "Currently on epoch 58 of 500 total... \n",
            "Currently on epoch 59 of 500 total... \n",
            "Currently on epoch 60 of 500 total... \n",
            "Currently on epoch 61 of 500 total... \n",
            "Currently on epoch 62 of 500 total... \n",
            "Currently on epoch 63 of 500 total... \n",
            "Currently on epoch 64 of 500 total... \n",
            "Currently on epoch 65 of 500 total... \n",
            "Currently on epoch 66 of 500 total... \n",
            "Currently on epoch 67 of 500 total... \n",
            "Currently on epoch 68 of 500 total... \n",
            "Currently on epoch 69 of 500 total... \n",
            "Currently on epoch 70 of 500 total... \n",
            "Currently on epoch 71 of 500 total... \n",
            "Currently on epoch 72 of 500 total... \n",
            "Currently on epoch 73 of 500 total... \n",
            "Currently on epoch 74 of 500 total... \n",
            "Currently on epoch 75 of 500 total... \n",
            "Currently on epoch 76 of 500 total... \n",
            "Currently on epoch 77 of 500 total... \n",
            "Currently on epoch 78 of 500 total... \n",
            "Currently on epoch 79 of 500 total... \n",
            "Currently on epoch 80 of 500 total... \n",
            "Currently on epoch 81 of 500 total... \n",
            "Currently on epoch 82 of 500 total... \n",
            "Currently on epoch 83 of 500 total... \n",
            "Currently on epoch 84 of 500 total... \n",
            "Currently on epoch 85 of 500 total... \n",
            "Currently on epoch 86 of 500 total... \n",
            "Currently on epoch 87 of 500 total... \n",
            "Currently on epoch 88 of 500 total... \n",
            "Currently on epoch 89 of 500 total... \n",
            "Currently on epoch 90 of 500 total... \n",
            "Currently on epoch 91 of 500 total... \n",
            "Currently on epoch 92 of 500 total... \n",
            "Currently on epoch 93 of 500 total... \n",
            "Currently on epoch 94 of 500 total... \n",
            "Currently on epoch 95 of 500 total... \n",
            "Currently on epoch 96 of 500 total... \n",
            "Currently on epoch 97 of 500 total... \n",
            "Currently on epoch 98 of 500 total... \n",
            "Currently on epoch 99 of 500 total... \n",
            "Currently on epoch 100 of 500 total... \n",
            "Currently on epoch 101 of 500 total... \n",
            "Currently on epoch 102 of 500 total... \n",
            "Currently on epoch 103 of 500 total... \n",
            "Currently on epoch 104 of 500 total... \n",
            "Currently on epoch 105 of 500 total... \n",
            "Currently on epoch 106 of 500 total... \n",
            "Currently on epoch 107 of 500 total... \n",
            "Currently on epoch 108 of 500 total... \n",
            "Currently on epoch 109 of 500 total... \n",
            "Currently on epoch 110 of 500 total... \n",
            "Currently on epoch 111 of 500 total... \n",
            "Currently on epoch 112 of 500 total... \n",
            "Currently on epoch 113 of 500 total... \n",
            "Currently on epoch 114 of 500 total... \n",
            "Currently on epoch 115 of 500 total... \n",
            "Currently on epoch 116 of 500 total... \n",
            "Currently on epoch 117 of 500 total... \n",
            "Currently on epoch 118 of 500 total... \n",
            "Currently on epoch 119 of 500 total... \n",
            "Currently on epoch 120 of 500 total... \n",
            "Currently on epoch 121 of 500 total... \n",
            "Currently on epoch 122 of 500 total... \n",
            "Currently on epoch 123 of 500 total... \n",
            "Currently on epoch 124 of 500 total... \n",
            "Currently on epoch 125 of 500 total... \n",
            "Currently on epoch 126 of 500 total... \n",
            "Currently on epoch 127 of 500 total... \n",
            "Currently on epoch 128 of 500 total... \n",
            "Currently on epoch 129 of 500 total... \n",
            "Currently on epoch 130 of 500 total... \n",
            "Currently on epoch 131 of 500 total... \n",
            "Currently on epoch 132 of 500 total... \n",
            "Currently on epoch 133 of 500 total... \n",
            "Currently on epoch 134 of 500 total... \n",
            "Currently on epoch 135 of 500 total... \n",
            "Currently on epoch 136 of 500 total... \n",
            "Currently on epoch 137 of 500 total... \n",
            "Currently on epoch 138 of 500 total... \n",
            "Currently on epoch 139 of 500 total... \n",
            "Currently on epoch 140 of 500 total... \n",
            "Currently on epoch 141 of 500 total... \n",
            "Currently on epoch 142 of 500 total... \n",
            "Currently on epoch 143 of 500 total... \n",
            "Currently on epoch 144 of 500 total... \n",
            "Currently on epoch 145 of 500 total... \n",
            "Currently on epoch 146 of 500 total... \n",
            "Currently on epoch 147 of 500 total... \n",
            "Currently on epoch 148 of 500 total... \n",
            "Currently on epoch 149 of 500 total... \n",
            "Currently on epoch 150 of 500 total... \n",
            "Currently on epoch 151 of 500 total... \n",
            "Currently on epoch 152 of 500 total... \n",
            "Currently on epoch 153 of 500 total... \n",
            "Currently on epoch 154 of 500 total... \n",
            "Currently on epoch 155 of 500 total... \n",
            "Currently on epoch 156 of 500 total... \n",
            "Currently on epoch 157 of 500 total... \n",
            "Currently on epoch 158 of 500 total... \n",
            "Currently on epoch 159 of 500 total... \n",
            "Currently on epoch 160 of 500 total... \n",
            "Currently on epoch 161 of 500 total... \n",
            "Currently on epoch 162 of 500 total... \n",
            "Currently on epoch 163 of 500 total... \n",
            "Currently on epoch 164 of 500 total... \n",
            "Currently on epoch 165 of 500 total... \n",
            "Currently on epoch 166 of 500 total... \n",
            "Currently on epoch 167 of 500 total... \n",
            "Currently on epoch 168 of 500 total... \n",
            "Currently on epoch 169 of 500 total... \n",
            "Currently on epoch 170 of 500 total... \n",
            "Currently on epoch 171 of 500 total... \n",
            "Currently on epoch 172 of 500 total... \n",
            "Currently on epoch 173 of 500 total... \n",
            "Currently on epoch 174 of 500 total... \n",
            "Currently on epoch 175 of 500 total... \n",
            "Currently on epoch 176 of 500 total... \n",
            "Currently on epoch 177 of 500 total... \n",
            "Currently on epoch 178 of 500 total... \n",
            "Currently on epoch 179 of 500 total... \n",
            "Currently on epoch 180 of 500 total... \n",
            "Currently on epoch 181 of 500 total... \n",
            "Currently on epoch 182 of 500 total... \n",
            "Currently on epoch 183 of 500 total... \n",
            "Currently on epoch 184 of 500 total... \n",
            "Currently on epoch 185 of 500 total... \n",
            "Currently on epoch 186 of 500 total... \n",
            "Currently on epoch 187 of 500 total... \n",
            "Currently on epoch 188 of 500 total... \n",
            "Currently on epoch 189 of 500 total... \n",
            "Currently on epoch 190 of 500 total... \n",
            "Currently on epoch 191 of 500 total... \n",
            "Currently on epoch 192 of 500 total... \n",
            "Currently on epoch 193 of 500 total... \n",
            "Currently on epoch 194 of 500 total... \n",
            "Currently on epoch 195 of 500 total... \n",
            "Currently on epoch 196 of 500 total... \n",
            "Currently on epoch 197 of 500 total... \n",
            "Currently on epoch 198 of 500 total... \n",
            "Currently on epoch 199 of 500 total... \n",
            "Currently on epoch 200 of 500 total... \n",
            "Currently on epoch 201 of 500 total... \n",
            "Currently on epoch 202 of 500 total... \n",
            "Currently on epoch 203 of 500 total... \n",
            "Currently on epoch 204 of 500 total... \n",
            "Currently on epoch 205 of 500 total... \n",
            "Currently on epoch 206 of 500 total... \n",
            "Currently on epoch 207 of 500 total... \n",
            "Currently on epoch 208 of 500 total... \n",
            "Currently on epoch 209 of 500 total... \n",
            "Currently on epoch 210 of 500 total... \n",
            "Currently on epoch 211 of 500 total... \n",
            "Currently on epoch 212 of 500 total... \n",
            "Currently on epoch 213 of 500 total... \n",
            "Currently on epoch 214 of 500 total... \n",
            "Currently on epoch 215 of 500 total... \n",
            "Currently on epoch 216 of 500 total... \n",
            "Currently on epoch 217 of 500 total... \n",
            "Currently on epoch 218 of 500 total... \n",
            "Currently on epoch 219 of 500 total... \n",
            "Currently on epoch 220 of 500 total... \n",
            "Currently on epoch 221 of 500 total... \n",
            "Currently on epoch 222 of 500 total... \n",
            "Currently on epoch 223 of 500 total... \n",
            "Currently on epoch 224 of 500 total... \n",
            "Currently on epoch 225 of 500 total... \n",
            "Currently on epoch 226 of 500 total... \n",
            "Currently on epoch 227 of 500 total... \n",
            "Currently on epoch 228 of 500 total... \n",
            "Currently on epoch 229 of 500 total... \n",
            "Currently on epoch 230 of 500 total... \n",
            "Currently on epoch 231 of 500 total... \n",
            "Currently on epoch 232 of 500 total... \n",
            "Currently on epoch 233 of 500 total... \n",
            "Currently on epoch 234 of 500 total... \n",
            "Currently on epoch 235 of 500 total... \n",
            "Currently on epoch 236 of 500 total... \n",
            "Currently on epoch 237 of 500 total... \n",
            "Currently on epoch 238 of 500 total... \n",
            "Currently on epoch 239 of 500 total... \n",
            "Currently on epoch 240 of 500 total... \n",
            "Currently on epoch 241 of 500 total... \n",
            "Currently on epoch 242 of 500 total... \n",
            "Currently on epoch 243 of 500 total... \n",
            "Currently on epoch 244 of 500 total... \n",
            "Currently on epoch 245 of 500 total... \n",
            "Currently on epoch 246 of 500 total... \n",
            "Currently on epoch 247 of 500 total... \n",
            "Currently on epoch 248 of 500 total... \n",
            "Currently on epoch 249 of 500 total... \n",
            "Currently on epoch 250 of 500 total... \n",
            "Currently on epoch 251 of 500 total... \n",
            "Currently on epoch 252 of 500 total... \n",
            "Currently on epoch 253 of 500 total... \n",
            "Currently on epoch 254 of 500 total... \n",
            "Currently on epoch 255 of 500 total... \n",
            "Currently on epoch 256 of 500 total... \n",
            "Currently on epoch 257 of 500 total... \n",
            "Currently on epoch 258 of 500 total... \n",
            "Currently on epoch 259 of 500 total... \n",
            "Currently on epoch 260 of 500 total... \n",
            "Currently on epoch 261 of 500 total... \n",
            "Currently on epoch 262 of 500 total... \n",
            "Currently on epoch 263 of 500 total... \n",
            "Currently on epoch 264 of 500 total... \n",
            "Currently on epoch 265 of 500 total... \n",
            "Currently on epoch 266 of 500 total... \n",
            "Currently on epoch 267 of 500 total... \n",
            "Currently on epoch 268 of 500 total... \n",
            "Currently on epoch 269 of 500 total... \n",
            "Currently on epoch 270 of 500 total... \n",
            "Currently on epoch 271 of 500 total... \n",
            "Currently on epoch 272 of 500 total... \n",
            "Currently on epoch 273 of 500 total... \n",
            "Currently on epoch 274 of 500 total... \n",
            "Currently on epoch 275 of 500 total... \n",
            "Currently on epoch 276 of 500 total... \n",
            "Currently on epoch 277 of 500 total... \n",
            "Currently on epoch 278 of 500 total... \n",
            "Currently on epoch 279 of 500 total... \n",
            "Currently on epoch 280 of 500 total... \n",
            "Currently on epoch 281 of 500 total... \n",
            "Currently on epoch 282 of 500 total... \n",
            "Currently on epoch 283 of 500 total... \n",
            "Currently on epoch 284 of 500 total... \n",
            "Currently on epoch 285 of 500 total... \n",
            "Currently on epoch 286 of 500 total... \n",
            "Currently on epoch 287 of 500 total... \n",
            "Currently on epoch 288 of 500 total... \n",
            "Currently on epoch 289 of 500 total... \n",
            "Currently on epoch 290 of 500 total... \n",
            "Currently on epoch 291 of 500 total... \n",
            "Currently on epoch 292 of 500 total... \n",
            "Currently on epoch 293 of 500 total... \n",
            "Currently on epoch 294 of 500 total... \n",
            "Currently on epoch 295 of 500 total... \n",
            "Currently on epoch 296 of 500 total... \n",
            "Currently on epoch 297 of 500 total... \n",
            "Currently on epoch 298 of 500 total... \n",
            "Currently on epoch 299 of 500 total... \n",
            "Currently on epoch 300 of 500 total... \n",
            "Currently on epoch 301 of 500 total... \n",
            "Currently on epoch 302 of 500 total... \n",
            "Currently on epoch 303 of 500 total... \n",
            "Currently on epoch 304 of 500 total... \n",
            "Currently on epoch 305 of 500 total... \n",
            "Currently on epoch 306 of 500 total... \n",
            "Currently on epoch 307 of 500 total... \n",
            "Currently on epoch 308 of 500 total... \n",
            "Currently on epoch 309 of 500 total... \n",
            "Currently on epoch 310 of 500 total... \n",
            "Currently on epoch 311 of 500 total... \n",
            "Currently on epoch 312 of 500 total... \n",
            "Currently on epoch 313 of 500 total... \n",
            "Currently on epoch 314 of 500 total... \n",
            "Currently on epoch 315 of 500 total... \n",
            "Currently on epoch 316 of 500 total... \n",
            "Currently on epoch 317 of 500 total... \n",
            "Currently on epoch 318 of 500 total... \n",
            "Currently on epoch 319 of 500 total... \n",
            "Currently on epoch 320 of 500 total... \n",
            "Currently on epoch 321 of 500 total... \n",
            "Currently on epoch 322 of 500 total... \n",
            "Currently on epoch 323 of 500 total... \n",
            "Currently on epoch 324 of 500 total... \n",
            "Currently on epoch 325 of 500 total... \n",
            "Currently on epoch 326 of 500 total... \n",
            "Currently on epoch 327 of 500 total... \n",
            "Currently on epoch 328 of 500 total... \n",
            "Currently on epoch 329 of 500 total... \n",
            "Currently on epoch 330 of 500 total... \n",
            "Currently on epoch 331 of 500 total... \n",
            "Currently on epoch 332 of 500 total... \n",
            "Currently on epoch 333 of 500 total... \n",
            "Currently on epoch 334 of 500 total... \n",
            "Currently on epoch 335 of 500 total... \n",
            "Currently on epoch 336 of 500 total... \n",
            "Currently on epoch 337 of 500 total... \n",
            "Currently on epoch 338 of 500 total... \n",
            "Currently on epoch 339 of 500 total... \n",
            "Currently on epoch 340 of 500 total... \n",
            "Currently on epoch 341 of 500 total... \n",
            "Currently on epoch 342 of 500 total... \n",
            "Currently on epoch 343 of 500 total... \n",
            "Currently on epoch 344 of 500 total... \n",
            "Currently on epoch 345 of 500 total... \n",
            "Currently on epoch 346 of 500 total... \n",
            "Currently on epoch 347 of 500 total... \n",
            "Currently on epoch 348 of 500 total... \n",
            "Currently on epoch 349 of 500 total... \n",
            "Currently on epoch 350 of 500 total... \n",
            "Currently on epoch 351 of 500 total... \n",
            "Currently on epoch 352 of 500 total... \n",
            "Currently on epoch 353 of 500 total... \n",
            "Currently on epoch 354 of 500 total... \n",
            "Currently on epoch 355 of 500 total... \n",
            "Currently on epoch 356 of 500 total... \n",
            "Currently on epoch 357 of 500 total... \n",
            "Currently on epoch 358 of 500 total... \n",
            "Currently on epoch 359 of 500 total... \n",
            "Currently on epoch 360 of 500 total... \n",
            "Currently on epoch 361 of 500 total... \n",
            "Currently on epoch 362 of 500 total... \n",
            "Currently on epoch 363 of 500 total... \n",
            "Currently on epoch 364 of 500 total... \n",
            "Currently on epoch 365 of 500 total... \n",
            "Currently on epoch 366 of 500 total... \n",
            "Currently on epoch 367 of 500 total... \n",
            "Currently on epoch 368 of 500 total... \n",
            "Currently on epoch 369 of 500 total... \n",
            "Currently on epoch 370 of 500 total... \n",
            "Currently on epoch 371 of 500 total... \n",
            "Currently on epoch 372 of 500 total... \n",
            "Currently on epoch 373 of 500 total... \n",
            "Currently on epoch 374 of 500 total... \n",
            "Currently on epoch 375 of 500 total... \n",
            "Currently on epoch 376 of 500 total... \n",
            "Currently on epoch 377 of 500 total... \n",
            "Currently on epoch 378 of 500 total... \n",
            "Currently on epoch 379 of 500 total... \n",
            "Currently on epoch 380 of 500 total... \n",
            "Currently on epoch 381 of 500 total... \n",
            "Currently on epoch 382 of 500 total... \n",
            "Currently on epoch 383 of 500 total... \n",
            "Currently on epoch 384 of 500 total... \n",
            "Currently on epoch 385 of 500 total... \n",
            "Currently on epoch 386 of 500 total... \n",
            "Currently on epoch 387 of 500 total... \n",
            "Currently on epoch 388 of 500 total... \n",
            "Currently on epoch 389 of 500 total... \n",
            "Currently on epoch 390 of 500 total... \n",
            "Currently on epoch 391 of 500 total... \n",
            "Currently on epoch 392 of 500 total... \n",
            "Currently on epoch 393 of 500 total... \n",
            "Currently on epoch 394 of 500 total... \n",
            "Currently on epoch 395 of 500 total... \n",
            "Currently on epoch 396 of 500 total... \n",
            "Currently on epoch 397 of 500 total... \n",
            "Currently on epoch 398 of 500 total... \n",
            "Currently on epoch 399 of 500 total... \n",
            "Currently on epoch 400 of 500 total... \n",
            "Currently on epoch 401 of 500 total... \n",
            "Currently on epoch 402 of 500 total... \n",
            "Currently on epoch 403 of 500 total... \n",
            "Currently on epoch 404 of 500 total... \n",
            "Currently on epoch 405 of 500 total... \n",
            "Currently on epoch 406 of 500 total... \n",
            "Currently on epoch 407 of 500 total... \n",
            "Currently on epoch 408 of 500 total... \n",
            "Currently on epoch 409 of 500 total... \n",
            "Currently on epoch 410 of 500 total... \n",
            "Currently on epoch 411 of 500 total... \n",
            "Currently on epoch 412 of 500 total... \n",
            "Currently on epoch 413 of 500 total... \n",
            "Currently on epoch 414 of 500 total... \n",
            "Currently on epoch 415 of 500 total... \n",
            "Currently on epoch 416 of 500 total... \n",
            "Currently on epoch 417 of 500 total... \n",
            "Currently on epoch 418 of 500 total... \n",
            "Currently on epoch 419 of 500 total... \n",
            "Currently on epoch 420 of 500 total... \n",
            "Currently on epoch 421 of 500 total... \n",
            "Currently on epoch 422 of 500 total... \n",
            "Currently on epoch 423 of 500 total... \n",
            "Currently on epoch 424 of 500 total... \n",
            "Currently on epoch 425 of 500 total... \n",
            "Currently on epoch 426 of 500 total... \n",
            "Currently on epoch 427 of 500 total... \n",
            "Currently on epoch 428 of 500 total... \n",
            "Currently on epoch 429 of 500 total... \n",
            "Currently on epoch 430 of 500 total... \n",
            "Currently on epoch 431 of 500 total... \n",
            "Currently on epoch 432 of 500 total... \n",
            "Currently on epoch 433 of 500 total... \n",
            "Currently on epoch 434 of 500 total... \n",
            "Currently on epoch 435 of 500 total... \n",
            "Currently on epoch 436 of 500 total... \n",
            "Currently on epoch 437 of 500 total... \n",
            "Currently on epoch 438 of 500 total... \n",
            "Currently on epoch 439 of 500 total... \n",
            "Currently on epoch 440 of 500 total... \n",
            "Currently on epoch 441 of 500 total... \n",
            "Currently on epoch 442 of 500 total... \n",
            "Currently on epoch 443 of 500 total... \n",
            "Currently on epoch 444 of 500 total... \n",
            "Currently on epoch 445 of 500 total... \n",
            "Currently on epoch 446 of 500 total... \n",
            "Currently on epoch 447 of 500 total... \n",
            "Currently on epoch 448 of 500 total... \n",
            "Currently on epoch 449 of 500 total... \n",
            "Currently on epoch 450 of 500 total... \n",
            "Currently on epoch 451 of 500 total... \n",
            "Currently on epoch 452 of 500 total... \n",
            "Currently on epoch 453 of 500 total... \n",
            "Currently on epoch 454 of 500 total... \n",
            "Currently on epoch 455 of 500 total... \n",
            "Currently on epoch 456 of 500 total... \n",
            "Currently on epoch 457 of 500 total... \n",
            "Currently on epoch 458 of 500 total... \n",
            "Currently on epoch 459 of 500 total... \n",
            "Currently on epoch 460 of 500 total... \n",
            "Currently on epoch 461 of 500 total... \n",
            "Currently on epoch 462 of 500 total... \n",
            "Currently on epoch 463 of 500 total... \n",
            "Currently on epoch 464 of 500 total... \n",
            "Currently on epoch 465 of 500 total... \n",
            "Currently on epoch 466 of 500 total... \n",
            "Currently on epoch 467 of 500 total... \n",
            "Currently on epoch 468 of 500 total... \n",
            "Currently on epoch 469 of 500 total... \n",
            "Currently on epoch 470 of 500 total... \n",
            "Currently on epoch 471 of 500 total... \n",
            "Currently on epoch 472 of 500 total... \n",
            "Currently on epoch 473 of 500 total... \n",
            "Currently on epoch 474 of 500 total... \n",
            "Currently on epoch 475 of 500 total... \n",
            "Currently on epoch 476 of 500 total... \n",
            "Currently on epoch 477 of 500 total... \n",
            "Currently on epoch 478 of 500 total... \n",
            "Currently on epoch 479 of 500 total... \n",
            "Currently on epoch 480 of 500 total... \n",
            "Currently on epoch 481 of 500 total... \n",
            "Currently on epoch 482 of 500 total... \n",
            "Currently on epoch 483 of 500 total... \n",
            "Currently on epoch 484 of 500 total... \n",
            "Currently on epoch 485 of 500 total... \n",
            "Currently on epoch 486 of 500 total... \n",
            "Currently on epoch 487 of 500 total... \n",
            "Currently on epoch 488 of 500 total... \n",
            "Currently on epoch 489 of 500 total... \n",
            "Currently on epoch 490 of 500 total... \n",
            "Currently on epoch 491 of 500 total... \n",
            "Currently on epoch 492 of 500 total... \n",
            "Currently on epoch 493 of 500 total... \n",
            "Currently on epoch 494 of 500 total... \n",
            "Currently on epoch 495 of 500 total... \n",
            "Currently on epoch 496 of 500 total... \n",
            "Currently on epoch 497 of 500 total... \n",
            "Currently on epoch 498 of 500 total... \n",
            "Currently on epoch 499 of 500 total... \n",
            "Currently on epoch 500 of 500 total... \n"
          ],
          "name": "stdout"
        }
      ]
    },
    {
      "metadata": {
        "id": "4LvAcC9LhpFH",
        "colab_type": "code",
        "colab": {
          "base_uri": "https://localhost:8080/",
          "height": 34
        },
        "outputId": "0d867853-4723-4a7d-dc9c-c5ba9a38ae82"
      },
      "cell_type": "code",
      "source": [
        "saver = tf.train.Saver(var_list = g_vars)\n",
        "\n",
        "new_samples = []\n",
        "\n",
        "with tf.Session() as sess:\n",
        "  \n",
        "  saver.restore(sess, './GAN_model.ckpt')\n",
        "  \n",
        "  for x in range(5):\n",
        "    sample_z = np.random.uniform(-1, 1, size=(1,100))\n",
        "    gen_sample = sess.run(generator(z,reuse=True),feed_dict={z:sample_z})\n",
        "    \n",
        "    new_samples.append(gen_sample)"
      ],
      "execution_count": 27,
      "outputs": [
        {
          "output_type": "stream",
          "text": [
            "INFO:tensorflow:Restoring parameters from ./GAN_model.ckpt\n"
          ],
          "name": "stdout"
        }
      ]
    },
    {
      "metadata": {
        "id": "VXm6IqUPjLNi",
        "colab_type": "code",
        "colab": {}
      },
      "cell_type": "code",
      "source": [
        "plt.imshow(samples[0].reshape(28,28),cmap='Greys')"
      ],
      "execution_count": 0,
      "outputs": []
    },
    {
      "metadata": {
        "id": "syXwIwDJvWAb",
        "colab_type": "code",
        "colab": {}
      },
      "cell_type": "code",
      "source": [
        ""
      ],
      "execution_count": 0,
      "outputs": []
    }
  ]
}