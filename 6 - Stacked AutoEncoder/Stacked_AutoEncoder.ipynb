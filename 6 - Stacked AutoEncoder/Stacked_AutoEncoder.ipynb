{
  "nbformat": 4,
  "nbformat_minor": 0,
  "metadata": {
    "colab": {
      "name": "Stacked AutoEncoder.ipynb",
      "version": "0.3.2",
      "provenance": [],
      "collapsed_sections": []
    },
    "kernelspec": {
      "name": "python3",
      "display_name": "Python 3"
    }
  },
  "cells": [
    {
      "metadata": {
        "id": "wl_viTOeKiXl",
        "colab_type": "text"
      },
      "cell_type": "markdown",
      "source": [
        "# Stacked AutoEncoder"
      ]
    },
    {
      "metadata": {
        "id": "p0XNMOUwKZoc",
        "colab_type": "code",
        "colab": {}
      },
      "cell_type": "code",
      "source": [
        "import numpy as np\n",
        "import matplotlib.pyplot as plt\n",
        "import tensorflow as tf\n",
        "from tensorflow.examples.tutorials.mnist import input_data\n",
        "%matplotlib inline\n",
        "import warnings\n",
        "warnings.filterwarnings('ignore')"
      ],
      "execution_count": 0,
      "outputs": []
    },
    {
      "metadata": {
        "id": "n8mO_D17K8Qm",
        "colab_type": "code",
        "colab": {
          "base_uri": "https://localhost:8080/",
          "height": 85
        },
        "outputId": "360d5fe3-94d5-4be6-a5a6-e8f111f4c476"
      },
      "cell_type": "code",
      "source": [
        "mnist = input_data.read_data_sets(\"MNIST_data/\",one_hot=True)"
      ],
      "execution_count": 5,
      "outputs": [
        {
          "output_type": "stream",
          "text": [
            "Extracting MNIST_data/train-images-idx3-ubyte.gz\n",
            "Extracting MNIST_data/train-labels-idx1-ubyte.gz\n",
            "Extracting MNIST_data/t10k-images-idx3-ubyte.gz\n",
            "Extracting MNIST_data/t10k-labels-idx1-ubyte.gz\n"
          ],
          "name": "stdout"
        }
      ]
    },
    {
      "metadata": {
        "id": "3y1EE_MXL03v",
        "colab_type": "code",
        "colab": {}
      },
      "cell_type": "code",
      "source": [
        "tf.reset_default_graph()"
      ],
      "execution_count": 0,
      "outputs": []
    },
    {
      "metadata": {
        "id": "T9rHAuY7MMj0",
        "colab_type": "code",
        "colab": {}
      },
      "cell_type": "code",
      "source": [
        "num_inputs = 784\n",
        "neurons_hid1 = 392\n",
        "neurons_hid2 = 196\n",
        "neurons_hid3 = neurons_hid1\n",
        "num_outputs = num_inputs\n",
        "learning_rate = 0.01\n",
        "act_func = tf.nn.relu"
      ],
      "execution_count": 0,
      "outputs": []
    },
    {
      "metadata": {
        "id": "o8F_hAnNM8PZ",
        "colab_type": "text"
      },
      "cell_type": "markdown",
      "source": [
        "## Placeholder"
      ]
    },
    {
      "metadata": {
        "id": "m4iHMPuVM2en",
        "colab_type": "code",
        "colab": {}
      },
      "cell_type": "code",
      "source": [
        "X = tf.placeholder(tf.float32, shape=[None,num_inputs])"
      ],
      "execution_count": 0,
      "outputs": []
    },
    {
      "metadata": {
        "id": "-kRDt1CTNKvQ",
        "colab_type": "code",
        "colab": {}
      },
      "cell_type": "code",
      "source": [
        "initializer = tf.variance_scaling_initializer()"
      ],
      "execution_count": 0,
      "outputs": []
    },
    {
      "metadata": {
        "id": "n3fU_JuVNRE8",
        "colab_type": "code",
        "colab": {}
      },
      "cell_type": "code",
      "source": [
        "w1 = tf.Variable(initializer([num_inputs,neurons_hid1]),dtype=tf.float32)\n",
        "w2 = tf.Variable(initializer([neurons_hid1,neurons_hid2]),dtype=tf.float32)\n",
        "w3 = tf.Variable(initializer([neurons_hid2,neurons_hid3]),dtype=tf.float32)\n",
        "w4 = tf.Variable(initializer([neurons_hid3,num_outputs]),dtype=tf.float32)"
      ],
      "execution_count": 0,
      "outputs": []
    },
    {
      "metadata": {
        "id": "izS0mIHpN0Vr",
        "colab_type": "code",
        "colab": {}
      },
      "cell_type": "code",
      "source": [
        "b1 = tf.Variable(tf.zeros(neurons_hid1))\n",
        "b2 = tf.Variable(tf.zeros(neurons_hid2))\n",
        "b3 = tf.Variable(tf.zeros(neurons_hid3))\n",
        "b4 = tf.Variable(tf.zeros(num_outputs))"
      ],
      "execution_count": 0,
      "outputs": []
    },
    {
      "metadata": {
        "id": "OdV_er9hOJrY",
        "colab_type": "code",
        "colab": {}
      },
      "cell_type": "code",
      "source": [
        "hid_layer1 = act_func(tf.matmul(X,w1) + b1)\n",
        "hid_layer2 = act_func(tf.matmul(hid_layer1,w2) + b2)\n",
        "hid_layer3 = act_func(tf.matmul(hid_layer2,w3) + b3)\n",
        "output_layer = act_func(tf.matmul(hid_layer3,w4) + b4)"
      ],
      "execution_count": 0,
      "outputs": []
    },
    {
      "metadata": {
        "id": "t1pBjR9XO0zt",
        "colab_type": "code",
        "colab": {}
      },
      "cell_type": "code",
      "source": [
        "loss = tf.reduce_mean(tf.square(output_layer-X))"
      ],
      "execution_count": 0,
      "outputs": []
    },
    {
      "metadata": {
        "id": "8wNfvIPwPYJk",
        "colab_type": "text"
      },
      "cell_type": "markdown",
      "source": [
        "## Optimizer"
      ]
    },
    {
      "metadata": {
        "id": "xFIAsGKFO9zt",
        "colab_type": "code",
        "colab": {}
      },
      "cell_type": "code",
      "source": [
        "optimizer = tf.train.AdamOptimizer(learning_rate)\n",
        "train = optimizer.minimize(loss)"
      ],
      "execution_count": 0,
      "outputs": []
    },
    {
      "metadata": {
        "id": "GfpTT6_jPH9r",
        "colab_type": "code",
        "colab": {}
      },
      "cell_type": "code",
      "source": [
        "init = tf.global_variables_initializer()"
      ],
      "execution_count": 0,
      "outputs": []
    },
    {
      "metadata": {
        "id": "px6WKx3_PO33",
        "colab_type": "code",
        "colab": {}
      },
      "cell_type": "code",
      "source": [
        "saver = tf.train.Saver()"
      ],
      "execution_count": 0,
      "outputs": []
    },
    {
      "metadata": {
        "id": "H9gTkppwPcAA",
        "colab_type": "text"
      },
      "cell_type": "markdown",
      "source": [
        "## Session"
      ]
    },
    {
      "metadata": {
        "id": "tGBs5UbjPTEW",
        "colab_type": "code",
        "colab": {
          "base_uri": "https://localhost:8080/",
          "height": 102
        },
        "outputId": "c0500b79-7032-4018-c132-08dee4884268"
      },
      "cell_type": "code",
      "source": [
        "num_epochs = 5\n",
        "batch_size = 150\n",
        "\n",
        "with tf.Session() as sess:\n",
        "  \n",
        "  sess.run(init)\n",
        "  \n",
        "  for epochs in range (num_epochs):\n",
        "    num_batches = mnist.train.num_examples // batch_size\n",
        "    \n",
        "    for iteration in range(num_batches):\n",
        "      X_batch, y_batch = mnist.train.next_batch(batch_size)\n",
        "      sess.run(train,feed_dict={X:X_batch})\n",
        "      \n",
        "    training_loss = loss.eval(feed_dict={X:X_batch})\n",
        "    \n",
        "    print(\"Epoch {} Loss {}\".format(epochs,training_loss))\n",
        "    \n",
        "  saver.save(sess,'./stacked_autoencoder.cpkt')  "
      ],
      "execution_count": 19,
      "outputs": [
        {
          "output_type": "stream",
          "text": [
            "Epoch 0 Loss 0.023643601685762405\n",
            "Epoch 1 Loss 0.020030800253152847\n",
            "Epoch 2 Loss 0.01849704049527645\n",
            "Epoch 3 Loss 0.017655182629823685\n",
            "Epoch 4 Loss 0.01854114793241024\n"
          ],
          "name": "stdout"
        }
      ]
    },
    {
      "metadata": {
        "id": "bbPp0SLKQdYT",
        "colab_type": "code",
        "colab": {
          "base_uri": "https://localhost:8080/",
          "height": 34
        },
        "outputId": "236b62bb-322c-45d1-de45-f05ad0a998ae"
      },
      "cell_type": "code",
      "source": [
        "num_test_images = 10\n",
        "\n",
        "with tf.Session() as sess:\n",
        "  saver.restore(sess,\"./stacked_autoencoder.cpkt\")\n",
        "  \n",
        "  results = output_layer.eval(feed_dict={X:mnist.test.images[:num_test_images]})"
      ],
      "execution_count": 21,
      "outputs": [
        {
          "output_type": "stream",
          "text": [
            "INFO:tensorflow:Restoring parameters from ./stacked_autoencoder.cpkt\n"
          ],
          "name": "stdout"
        }
      ]
    },
    {
      "metadata": {
        "id": "_ymSuMgQRAlG",
        "colab_type": "code",
        "colab": {}
      },
      "cell_type": "code",
      "source": [
        "# Compare original images with their reconstructions"
      ],
      "execution_count": 0,
      "outputs": []
    },
    {
      "metadata": {
        "id": "2vKzjm4OROON",
        "colab_type": "code",
        "colab": {
          "base_uri": "https://localhost:8080/",
          "height": 283
        },
        "outputId": "81559ae5-ab16-41d3-b0fa-fcd1372a712a"
      },
      "cell_type": "code",
      "source": [
        "f, a = plt.subplots(2, 10, figsize=(20, 4))\n",
        "for i in range(num_test_images):\n",
        "  a[0][i].imshow(np.reshape(mnist.test.images[i],(28,28)))\n",
        "  a[1][i].imshow(np.reshape(results[i],(28,28)))"
      ],
      "execution_count": 25,
      "outputs": [
        {
          "output_type": "display_data",
          "data": {
            "image/png": "[encoded data removed]",
            "text/plain": [
              "<Figure size 1440x288 with 20 Axes>"
            ]
          },
          "metadata": {
            "tags": []
          }
        }
      ]
    },
    {
      "metadata": {
        "id": "0gilDEoKRy5u",
        "colab_type": "text"
      },
      "cell_type": "markdown",
      "source": [
        "# END"
      ]
    }
  ]
}