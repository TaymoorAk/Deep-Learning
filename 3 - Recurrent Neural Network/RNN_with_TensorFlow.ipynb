{
  "nbformat": 4,
  "nbformat_minor": 0,
  "metadata": {
    "colab": {
      "name": "RNN_with_TensorFlow.ipynb",
      "version": "0.3.2",
      "provenance": [],
      "collapsed_sections": []
    },
    "kernelspec": {
      "name": "python3",
      "display_name": "Python 3"
    }
  },
  "cells": [
    {
      "metadata": {
        "id": "icYm9szCZbvR",
        "colab_type": "text"
      },
      "cell_type": "markdown",
      "source": [
        "# RNN with TensorFlow TimeSeries Prediction"
      ]
    },
    {
      "metadata": {
        "id": "GEFidXFQZL_T",
        "colab_type": "code",
        "colab": {}
      },
      "cell_type": "code",
      "source": [
        "import numpy as np\n",
        "import tensorflow as tf\n",
        "import matplotlib.pyplot as plt\n",
        "%matplotlib inline"
      ],
      "execution_count": 0,
      "outputs": []
    },
    {
      "metadata": {
        "id": "lZKx8KhrZ-gQ",
        "colab_type": "text"
      },
      "cell_type": "markdown",
      "source": [
        "## The DATA"
      ]
    },
    {
      "metadata": {
        "id": "SsoXhGK9Z6LU",
        "colab_type": "code",
        "colab": {}
      },
      "cell_type": "code",
      "source": [
        "class TimeSeriesData():\n",
        "  \n",
        "  def __init__(self, num_points, xmin, xmax):\n",
        "    \n",
        "    self.xmin = xmin\n",
        "    self.xmax = xmax\n",
        "    self.num_points = num_points\n",
        "    self.resolution = (xmax-xmin)/num_points\n",
        "    self.x_data = np.linspace(xmin,xmax,num_points)\n",
        "    self.y_true = np.sin(self.x_data)\n",
        "    \n",
        "  def ret_true(self, x_series):\n",
        "    return np.sin(x_series)\n",
        "  \n",
        "  def next_batch(self, batch_size,steps,return_batch_ts = False):\n",
        "    \n",
        "    #Grab random starting point for each batch\n",
        "    rand_start = np.random.rand(batch_size,1)\n",
        "    #Convert to be on time series\n",
        "    ts_start = rand_start * (self.xmax - self.xmin -(steps*self.resolution))\n",
        "    #Create batch time series on the x  axis\n",
        "    batch_ts = ts_start + np.arange(0.0, steps+1) * self.resolution\n",
        "    #Create the Y data for the time series in the batches\n",
        "    y_batch = np.sin(batch_ts)\n",
        "    #Format for RNN\n",
        "    if return_batch_ts:\n",
        "      return y_batch[:,:-1].reshape(-1, steps, 1), y_batch[:, 1:].reshape(-1, steps, 1), batch_ts\n",
        "    \n",
        "    else:\n",
        "       return y_batch[:,:-1].reshape(-1, steps, 1), y_batch[:, 1:].reshape(-1, steps, 1)\n",
        "    "
      ],
      "execution_count": 0,
      "outputs": []
    },
    {
      "metadata": {
        "id": "iwIUriAlTPdZ",
        "colab_type": "code",
        "colab": {}
      },
      "cell_type": "code",
      "source": [
        "ts_data = TimeSeriesData(250,0,10)"
      ],
      "execution_count": 0,
      "outputs": []
    },
    {
      "metadata": {
        "id": "HXm5azrFTaDI",
        "colab_type": "code",
        "colab": {
          "base_uri": "https://localhost:8080/",
          "height": 282
        },
        "outputId": "4ac753a3-7f84-46c1-bb1c-35b493f618ee"
      },
      "cell_type": "code",
      "source": [
        "plt.plot(ts_data.x_data, ts_data.y_true)"
      ],
      "execution_count": 4,
      "outputs": [
        {
          "output_type": "execute_result",
          "data": {
            "text/plain": [
              "[<matplotlib.lines.Line2D at 0x7f3f2c2f3a20>]"
            ]
          },
          "metadata": {
            "tags": []
          },
          "execution_count": 4
        },
        {
          "output_type": "display_data",
          "data": {
            "image/png": "[encoded data removed]",
            "text/plain": [
              "<Figure size 432x288 with 1 Axes>"
            ]
          },
          "metadata": {
            "tags": []
          }
        }
      ]
    },
    {
      "metadata": {
        "id": "4IynHfE3T7uf",
        "colab_type": "code",
        "colab": {}
      },
      "cell_type": "code",
      "source": [
        "#Num of steps in batch (also used for prediction steps into the feature)\n",
        "num_time_steps = 30"
      ],
      "execution_count": 0,
      "outputs": []
    },
    {
      "metadata": {
        "id": "UfdHWgPWUIEE",
        "colab_type": "code",
        "colab": {}
      },
      "cell_type": "code",
      "source": [
        "y1, y2, ts = ts_data.next_batch(1, num_time_steps, True)"
      ],
      "execution_count": 0,
      "outputs": []
    },
    {
      "metadata": {
        "id": "8rXv5EbFUSxz",
        "colab_type": "code",
        "colab": {
          "base_uri": "https://localhost:8080/",
          "height": 285
        },
        "outputId": "9aa82527-43f0-4a02-f535-15a2199eadf6"
      },
      "cell_type": "code",
      "source": [
        "plt.plot(ts.flatten()[1:],y2.flatten(),'*')"
      ],
      "execution_count": 7,
      "outputs": [
        {
          "output_type": "execute_result",
          "data": {
            "text/plain": [
              "[<matplotlib.lines.Line2D at 0x7f3f2a28fb38>]"
            ]
          },
          "metadata": {
            "tags": []
          },
          "execution_count": 7
        },
        {
          "output_type": "display_data",
          "data": {
            "image/png": "[encoded data removed]",
            "text/plain": [
              "<Figure size 432x288 with 1 Axes>"
            ]
          },
          "metadata": {
            "tags": []
          }
        }
      ]
    },
    {
      "metadata": {
        "id": "Rl9R_VP-UpRX",
        "colab_type": "code",
        "colab": {
          "base_uri": "https://localhost:8080/",
          "height": 297
        },
        "outputId": "ca9c4d55-6e73-47da-adf9-6c138291e8b2"
      },
      "cell_type": "code",
      "source": [
        "plt.plot(ts_data.x_data,ts_data.y_true,label='Sin(t)')\n",
        "plt.plot(ts.flatten()[1:],y2.flatten(),'*',label='Single Training Instance')\n",
        "plt.legend()\n",
        "plt.tight_layout()"
      ],
      "execution_count": 8,
      "outputs": [
        {
          "output_type": "display_data",
          "data": {
            "image/png": "[encoded data removed]",
            "text/plain": [
              "<Figure size 432x288 with 1 Axes>"
            ]
          },
          "metadata": {
            "tags": []
          }
        }
      ]
    },
    {
      "metadata": {
        "id": "p1h1JrsrVOiP",
        "colab_type": "text"
      },
      "cell_type": "markdown",
      "source": [
        "## A Training Instance and what to predict"
      ]
    },
    {
      "metadata": {
        "id": "7NtZYDEsVWni",
        "colab_type": "text"
      },
      "cell_type": "markdown",
      "source": [
        "We are trying to predict a time series shifted over by t+1"
      ]
    },
    {
      "metadata": {
        "id": "MMHsWS5bVGJc",
        "colab_type": "code",
        "colab": {}
      },
      "cell_type": "code",
      "source": [
        "train_inst = np.linspace(5,5 + ts_data.resolution * (num_time_steps +1 ), num_time_steps+1)"
      ],
      "execution_count": 0,
      "outputs": []
    },
    {
      "metadata": {
        "id": "jCRvK6SjVqeq",
        "colab_type": "code",
        "colab": {
          "base_uri": "https://localhost:8080/",
          "height": 299
        },
        "outputId": "4273742a-93a3-42fb-ec9d-f612760a2749"
      },
      "cell_type": "code",
      "source": [
        "plt.title(\"A training instance\", fontsize = 14)\n",
        "plt.plot(train_inst[:-1], ts_data.ret_true(train_inst[:-1]),\"bo\",markersize=15, alpha=0.5, label=\"instance\")\n",
        "plt.plot(train_inst[1:], ts_data.ret_true(train_inst[1:]), \"ko\",markersize=7, label=\"target\")"
      ],
      "execution_count": 10,
      "outputs": [
        {
          "output_type": "execute_result",
          "data": {
            "text/plain": [
              "[<matplotlib.lines.Line2D at 0x7f3f2a161908>]"
            ]
          },
          "metadata": {
            "tags": []
          },
          "execution_count": 10
        },
        {
          "output_type": "display_data",
          "data": {
            "image/png": "[encoded data removed]",
            "text/plain": [
              "<Figure size 432x288 with 1 Axes>"
            ]
          },
          "metadata": {
            "tags": []
          }
        }
      ]
    },
    {
      "metadata": {
        "id": "Grz24yQSXI4O",
        "colab_type": "text"
      },
      "cell_type": "markdown",
      "source": [
        "## Creating the Model"
      ]
    },
    {
      "metadata": {
        "id": "eFl1XwmbWY91",
        "colab_type": "code",
        "colab": {}
      },
      "cell_type": "code",
      "source": [
        "tf.reset_default_graph()"
      ],
      "execution_count": 0,
      "outputs": []
    },
    {
      "metadata": {
        "id": "QNh56iwMXPRU",
        "colab_type": "text"
      },
      "cell_type": "markdown",
      "source": [
        "### Constants"
      ]
    },
    {
      "metadata": {
        "id": "O5sR_nyIXOTo",
        "colab_type": "code",
        "colab": {}
      },
      "cell_type": "code",
      "source": [
        "# Just one feature, the time series\n",
        "num_inputs = 1\n",
        "#100 neuron layer, play with this\n",
        "num_neurons =100\n",
        "#just one output, predicted time series\n",
        "num_outputs = 1\n",
        "#Learning rate, 0.0001 default, but you can change it\n",
        "learning_rate = 0.0001\n",
        "#how many iterations to go through(training steps)\n",
        "num_train_iterations = 2500\n",
        "#Size of the batch of data\n",
        "batch_size = 1"
      ],
      "execution_count": 0,
      "outputs": []
    },
    {
      "metadata": {
        "id": "d6qBb-9SYArt",
        "colab_type": "text"
      },
      "cell_type": "markdown",
      "source": [
        "### Placeholders"
      ]
    },
    {
      "metadata": {
        "id": "AEOduVKaX_qU",
        "colab_type": "code",
        "colab": {}
      },
      "cell_type": "code",
      "source": [
        "X = tf.placeholder(tf.float32, [None, num_time_steps, num_inputs])\n",
        "y = tf.placeholder(tf.float32, [None, num_time_steps, num_outputs])"
      ],
      "execution_count": 0,
      "outputs": []
    },
    {
      "metadata": {
        "id": "JUIBoANyYXRM",
        "colab_type": "text"
      },
      "cell_type": "markdown",
      "source": [
        "## RNN Cell Layer"
      ]
    },
    {
      "metadata": {
        "id": "HJ3s3gnxYWPD",
        "colab_type": "code",
        "colab": {
          "base_uri": "https://localhost:8080/",
          "height": 88
        },
        "outputId": "15004b40-3fdb-49d8-8c11-58ae164904bb"
      },
      "cell_type": "code",
      "source": [
        "cell = tf.contrib.rnn.OutputProjectionWrapper(\n",
        "    tf.contrib.rnn.BasicRNNCell(num_units=num_neurons, activation = tf.nn.relu),\n",
        "    output_size = num_outputs)"
      ],
      "execution_count": 15,
      "outputs": [
        {
          "output_type": "stream",
          "text": [
            "WARNING:tensorflow:From <ipython-input-15-6198e1573e60>:2: BasicRNNCell.__init__ (from tensorflow.python.ops.rnn_cell_impl) is deprecated and will be removed in a future version.\n",
            "Instructions for updating:\n",
            "This class is equivalent as tf.keras.layers.SimpleRNNCell, and will be replaced by that in Tensorflow 2.0.\n"
          ],
          "name": "stdout"
        }
      ]
    },
    {
      "metadata": {
        "id": "fCroCSPFZI-o",
        "colab_type": "text"
      },
      "cell_type": "markdown",
      "source": [
        "### Dynamic RNN Cell"
      ]
    },
    {
      "metadata": {
        "id": "jDxYs0oHY9Q_",
        "colab_type": "code",
        "colab": {}
      },
      "cell_type": "code",
      "source": [
        "outputs, states = tf.nn.dynamic_rnn(cell, X, dtype=tf.float32)"
      ],
      "execution_count": 0,
      "outputs": []
    },
    {
      "metadata": {
        "id": "Nep5Sp-6ZVYm",
        "colab_type": "text"
      },
      "cell_type": "markdown",
      "source": [
        "### Loss Function and Optimizer"
      ]
    },
    {
      "metadata": {
        "id": "KLzt-lWqZThV",
        "colab_type": "code",
        "colab": {}
      },
      "cell_type": "code",
      "source": [
        "loss = tf.reduce_mean(tf.square(outputs-y)) #MSE\n",
        "optimizer = tf.train.AdamOptimizer(learning_rate=learning_rate)\n",
        "train = optimizer.minimize(loss)"
      ],
      "execution_count": 0,
      "outputs": []
    },
    {
      "metadata": {
        "id": "AMWz3zw4Zqwo",
        "colab_type": "text"
      },
      "cell_type": "markdown",
      "source": [
        "### Init Variables"
      ]
    },
    {
      "metadata": {
        "id": "thxzDLjkZove",
        "colab_type": "code",
        "colab": {}
      },
      "cell_type": "code",
      "source": [
        "init = tf.global_variables_initializer()"
      ],
      "execution_count": 0,
      "outputs": []
    },
    {
      "metadata": {
        "id": "6HPqYp4EZ3rb",
        "colab_type": "text"
      },
      "cell_type": "markdown",
      "source": [
        "## Session"
      ]
    },
    {
      "metadata": {
        "id": "7S8SXWPNZ2eV",
        "colab_type": "code",
        "colab": {
          "base_uri": "https://localhost:8080/",
          "height": 442
        },
        "outputId": "9eff40cf-a5b8-4a03-9bca-2c02500d9e9c"
      },
      "cell_type": "code",
      "source": [
        "saver = tf.train.Saver()\n",
        "with tf.Session() as sess:\n",
        "  \n",
        "  sess.run(init)\n",
        "  \n",
        "  for iteration in range(num_train_iterations):\n",
        "    \n",
        "    X_batch, y_batch = ts_data.next_batch(batch_size, num_time_steps)\n",
        "    sess.run(train, feed_dict={X: X_batch, y:y_batch})\n",
        "    \n",
        "    if iteration % 100 == 0:\n",
        "      mse = loss.eval(feed_dict={X:X_batch, y:y_batch})\n",
        "      print(iteration, \"\\tMSE:\", mse)\n",
        "      \n",
        "    saver.save(sess, \"./rnn_time_series_codealong2\")  "
      ],
      "execution_count": 22,
      "outputs": [
        {
          "output_type": "stream",
          "text": [
            "0 \tMSE: 0.11055924\n",
            "100 \tMSE: 0.09617458\n",
            "200 \tMSE: 0.019534873\n",
            "300 \tMSE: 0.0040940433\n",
            "400 \tMSE: 0.007127954\n",
            "500 \tMSE: 0.021409346\n",
            "600 \tMSE: 0.006995765\n",
            "700 \tMSE: 0.024867948\n",
            "800 \tMSE: 0.02512957\n",
            "900 \tMSE: 0.0049307835\n",
            "1000 \tMSE: 0.0045426646\n",
            "1100 \tMSE: 0.0009920177\n",
            "1200 \tMSE: 0.010060877\n",
            "1300 \tMSE: 0.0005478815\n",
            "1400 \tMSE: 0.0053197653\n",
            "1500 \tMSE: 0.0026699787\n",
            "1600 \tMSE: 0.000946849\n",
            "1700 \tMSE: 0.0010495469\n",
            "1800 \tMSE: 0.0070893182\n",
            "1900 \tMSE: 0.00083527045\n",
            "2000 \tMSE: 0.00014483609\n",
            "2100 \tMSE: 0.0048906\n",
            "2200 \tMSE: 0.000121704965\n",
            "2300 \tMSE: 0.0013156424\n",
            "2400 \tMSE: 0.0009090943\n"
          ],
          "name": "stdout"
        }
      ]
    },
    {
      "metadata": {
        "id": "HnseVfKCa_e8",
        "colab_type": "text"
      },
      "cell_type": "markdown",
      "source": [
        "## Predicting"
      ]
    },
    {
      "metadata": {
        "id": "KLF5XMhMaw9-",
        "colab_type": "code",
        "colab": {
          "base_uri": "https://localhost:8080/",
          "height": 34
        },
        "outputId": "f788dde4-ddcf-4bfd-b715-4371da009992"
      },
      "cell_type": "code",
      "source": [
        "with tf.Session() as sess:\n",
        "    saver.restore(sess,\"./rnn_time_series_codealong2\")\n",
        "    \n",
        "    X_new = np.sin(np.array(train_inst[:-1].reshape(-1,num_time_steps,num_inputs)))\n",
        "    y_pred = sess.run(outputs,feed_dict={X:X_new})"
      ],
      "execution_count": 23,
      "outputs": [
        {
          "output_type": "stream",
          "text": [
            "INFO:tensorflow:Restoring parameters from ./rnn_time_series_codealong2\n"
          ],
          "name": "stdout"
        }
      ]
    },
    {
      "metadata": {
        "id": "EGYbUoMBbfNa",
        "colab_type": "code",
        "colab": {
          "base_uri": "https://localhost:8080/",
          "height": 297
        },
        "outputId": "728cebb1-3022-4428-dca9-4db80d0ab438"
      },
      "cell_type": "code",
      "source": [
        "plt.title(\"testing the model\")\n",
        "\n",
        "#training instance\n",
        "plt.plot(train_inst[:-1],np.sin(train_inst[:-1]),'bo',markersize=15,alpha=0.5,label='Training instance')\n",
        "#target to predict\n",
        "plt.plot(train_inst[1:],np.sin(train_inst[1:]),'ko',markersize = 10,label='Target to Predict')\n",
        "#models prediction\n",
        "plt.plot(train_inst[1:],y_pred[0,:,0],'r.',markersize=7,label='Predictions')\n",
        "\n",
        "plt.xlabel('TIME')\n",
        "plt.legend()\n",
        "plt.tight_layout()"
      ],
      "execution_count": 24,
      "outputs": [
        {
          "output_type": "display_data",
          "data": {
            "image/png": "[encoded data removed]",
            "text/plain": [
              "<Figure size 432x288 with 1 Axes>"
            ]
          },
          "metadata": {
            "tags": []
          }
        }
      ]
    },
    {
      "metadata": {
        "id": "vze2oQO7cwni",
        "colab_type": "text"
      },
      "cell_type": "markdown",
      "source": [
        "## Generating New Sequence"
      ]
    },
    {
      "metadata": {
        "id": "G9p3S3MAcril",
        "colab_type": "code",
        "colab": {
          "base_uri": "https://localhost:8080/",
          "height": 34
        },
        "outputId": "cf419e2b-ca9c-4e3e-ebab-573132e74581"
      },
      "cell_type": "code",
      "source": [
        "with tf.Session() as sess:\n",
        "  \n",
        "  saver.restore(sess,\"./rnn_time_series_codealong2\")\n",
        "  \n",
        "  zero_seq_seed = [0.0 for i in range(num_time_steps)]\n",
        "  \n",
        "  for iteration in range(len(ts_data.x_data)-num_time_steps):\n",
        "    X_batch = np.array(zero_seq_seed[-num_time_steps:]).reshape(1,num_time_steps,1)\n",
        "    \n",
        "    y_pred = sess.run(outputs, feed_dict={X:X_batch})\n",
        "    \n",
        "    zero_seq_seed.append(y_pred[0,-1,0])"
      ],
      "execution_count": 26,
      "outputs": [
        {
          "output_type": "stream",
          "text": [
            "INFO:tensorflow:Restoring parameters from ./rnn_time_series_codealong2\n"
          ],
          "name": "stdout"
        }
      ]
    },
    {
      "metadata": {
        "id": "2hJMXESYdtb0",
        "colab_type": "code",
        "colab": {
          "base_uri": "https://localhost:8080/",
          "height": 300
        },
        "outputId": "7c6e2120-141a-4f67-cc30-a1158fc38ac7"
      },
      "cell_type": "code",
      "source": [
        "plt.plot(ts_data.x_data, zero_seq_seed,'b-')\n",
        "plt.plot(ts_data.x_data[:num_time_steps],zero_seq_seed[:num_time_steps],'r',linewidth=3)\n",
        "plt.xlabel('Time')\n",
        "plt.ylabel('Y')"
      ],
      "execution_count": 28,
      "outputs": [
        {
          "output_type": "execute_result",
          "data": {
            "text/plain": [
              "Text(0, 0.5, 'Y')"
            ]
          },
          "metadata": {
            "tags": []
          },
          "execution_count": 28
        },
        {
          "output_type": "display_data",
          "data": {
            "image/png": "[encoded data removed]",
            "text/plain": [
              "<Figure size 432x288 with 1 Axes>"
            ]
          },
          "metadata": {
            "tags": []
          }
        }
      ]
    },
    {
      "metadata": {
        "id": "g2rgSF56eVQi",
        "colab_type": "code",
        "colab": {
          "base_uri": "https://localhost:8080/",
          "height": 34
        },
        "outputId": "c9b0a41e-4579-479a-d636-08b8fb082c21"
      },
      "cell_type": "code",
      "source": [
        "with tf.Session() as sess:\n",
        "    \n",
        "    saver.restore(sess,\"./rnn_time_series_codealong2\")\n",
        "    \n",
        "  \n",
        "    training_instance = list(ts_data.y_true[:30])\n",
        "    \n",
        "    for iteration in range(len(training_instance)-num_time_steps):\n",
        "        \n",
        "        X_batch = np.array(training_instance[-num_time_steps:]).reshape(1,num_time_steps,1)\n",
        "        \n",
        "        y_pred = sess.run(outputs, feed_dict={X:X_batch})\n",
        "        \n",
        "        training_instance.append(y_pred[0,-1,0])"
      ],
      "execution_count": 29,
      "outputs": [
        {
          "output_type": "stream",
          "text": [
            "INFO:tensorflow:Restoring parameters from ./rnn_time_series_codealong2\n"
          ],
          "name": "stdout"
        }
      ]
    },
    {
      "metadata": {
        "id": "ihVcLh6AegCT",
        "colab_type": "code",
        "colab": {
          "base_uri": "https://localhost:8080/",
          "height": 296
        },
        "outputId": "9f6a745b-544e-4238-f0fb-a75e22ecc46c"
      },
      "cell_type": "code",
      "source": [
        "plt.plot(ts_data.x_data,ts_data.y_true,'b-')\n",
        "plt.plot(ts_data.x_data[:num_time_steps],training_instance[:num_time_steps],'r',linewidth=3)\n",
        "plt.xlabel('Time')\n",
        "plt.ylabel('Y')"
      ],
      "execution_count": 30,
      "outputs": [
        {
          "output_type": "execute_result",
          "data": {
            "text/plain": [
              "Text(0, 0.5, 'Y')"
            ]
          },
          "metadata": {
            "tags": []
          },
          "execution_count": 30
        },
        {
          "output_type": "display_data",
          "data": {
            "image/png": "[encoded data removed]",
            "text/plain": [
              "<Figure size 432x288 with 1 Axes>"
            ]
          },
          "metadata": {
            "tags": []
          }
        }
      ]
    },
    {
      "metadata": {
        "id": "eP2EOyCxeqqM",
        "colab_type": "text"
      },
      "cell_type": "markdown",
      "source": [
        "# THE END"
      ]
    }
  ]
}